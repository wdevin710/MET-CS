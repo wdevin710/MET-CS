{
  "nbformat": 4,
  "nbformat_minor": 0,
  "metadata": {
    "colab": {
      "name": "Running_R_on_Colab.ipynb",
      "provenance": [],
      "collapsed_sections": [],
      "include_colab_link": true
    },
    "kernelspec": {
      "name": "python3",
      "display_name": "Python 3"
    }
  },
  "cells": [
    {
      "cell_type": "markdown",
      "metadata": {
        "id": "view-in-github",
        "colab_type": "text"
      },
      "source": [
        "<a href=\"https://colab.research.google.com/github/kiat/R-Examples/blob/master/Running_R_on_Colab.ipynb\" target=\"_parent\"><img src=\"https://colab.research.google.com/assets/colab-badge.svg\" alt=\"Open In Colab\"/></a>"
      ]
    },
    {
      "cell_type": "code",
      "metadata": {
        "id": "seG5y0ZZ7acg",
        "colab_type": "code",
        "colab": {
          "base_uri": "https://localhost:8080/",
          "height": 53
        },
        "outputId": "abd4a414-2212-4a6f-a4f3-2157fc0a07b4"
      },
      "source": [
        "%load_ext rpy2.ipython"
      ],
      "execution_count": 14,
      "outputs": [
        {
          "output_type": "stream",
          "text": [
            "The rpy2.ipython extension is already loaded. To reload it, use:\n",
            "  %reload_ext rpy2.ipython\n"
          ],
          "name": "stdout"
        }
      ]
    },
    {
      "cell_type": "code",
      "metadata": {
        "id": "TkqA4mlK9bsx",
        "colab_type": "code",
        "colab": {
          "base_uri": "https://localhost:8080/",
          "height": 35
        },
        "outputId": "a932a6e1-cdf8-48dc-c32c-f88a36abd776"
      },
      "source": [
        "%%R\n",
        "install.packages(\"dplyr\", lib=\"/content/R\")"
      ],
      "execution_count": 12,
      "outputs": [
        {
          "output_type": "stream",
          "text": [
            "Would you like to use a personal library instead? (yes/No/cancel) yes\n"
          ],
          "name": "stdout"
        }
      ]
    },
    {
      "cell_type": "code",
      "metadata": {
        "id": "CKJWCl-jDkHD",
        "colab_type": "code",
        "colab": {
          "base_uri": "https://localhost:8080/",
          "height": 215
        },
        "outputId": "fd742f24-1880-43c9-99a3-530ab0ae8976"
      },
      "source": [
        "%%R\n",
        "\n",
        "# First read the data as a dataframe into your R memory \n",
        "decay <- read.csv(\"https://raw.githubusercontent.com/kiat/R-Examples/master/Datasets/decay.csv\" )\n",
        "\n",
        "#print the dataframe to check the content\n",
        "# Note, this is only possible if your data is small \n",
        "decay\n"
      ],
      "execution_count": 7,
      "outputs": [
        {
          "output_type": "display_data",
          "data": {
            "text/plain": [
              "   strength weeks\n",
              "1       118     2\n",
              "2       126     2\n",
              "3       126     2\n",
              "4       120     2\n",
              "5       129     2\n",
              "6       124    16\n",
              "7        98    16\n",
              "8       110    16\n",
              "9       140    16\n",
              "10      110    16\n"
            ]
          },
          "metadata": {
            "tags": []
          }
        }
      ]
    },
    {
      "cell_type": "code",
      "metadata": {
        "id": "2MzlwxWMixnh",
        "colab_type": "code",
        "colab": {
          "base_uri": "https://localhost:8080/",
          "height": 53
        },
        "outputId": "10bc9c0f-8271-45e1-e14d-7903a70def56"
      },
      "source": [
        "%%R\n",
        "# Print out a summary of the data for the 2 weeks sample data \n",
        "summary(decay$strength[decay$weeks==2])"
      ],
      "execution_count": 9,
      "outputs": [
        {
          "output_type": "display_data",
          "data": {
            "text/plain": [
              "   Min. 1st Qu.  Median    Mean 3rd Qu.    Max. \n",
              "  118.0   120.0   126.0   123.8   126.0   129.0 \n"
            ]
          },
          "metadata": {
            "tags": []
          }
        }
      ]
    },
    {
      "cell_type": "code",
      "metadata": {
        "id": "zEx-yT85DpCd",
        "colab_type": "code",
        "colab": {
          "base_uri": "https://localhost:8080/",
          "height": 53
        },
        "outputId": "1cd7d650-bc87-4c8f-eb9a-917a553e8173"
      },
      "source": [
        "%%R\n",
        "# Print out a summary of the data for the 16 weeks sample data \n",
        "summary(decay$strength[decay$weeks==16])"
      ],
      "execution_count": 10,
      "outputs": [
        {
          "output_type": "display_data",
          "data": {
            "text/plain": [
              "   Min. 1st Qu.  Median    Mean 3rd Qu.    Max. \n",
              "   98.0   110.0   110.0   116.4   124.0   140.0 \n"
            ]
          },
          "metadata": {
            "tags": []
          }
        }
      ]
    },
    {
      "cell_type": "code",
      "metadata": {
        "id": "muUuiaMyisiz",
        "colab_type": "code",
        "colab": {
          "base_uri": "https://localhost:8080/",
          "height": 497
        },
        "outputId": "19570bbd-b4b2-4f29-9013-de4cd3bf5668"
      },
      "source": [
        "%%R \n",
        "boxplot(decay$strength ~ decay$weeks,  main=\"Polyester  Strenght after weeks under soil\", xlab=\"group\",  ylab=\"strength\")"
      ],
      "execution_count": 11,
      "outputs": [
        {
          "output_type": "display_data",
          "data": {
            "image/png": "[encoded data removed]"
          },
          "metadata": {
            "tags": []
          }
        }
      ]
    },
    {
      "cell_type": "code",
      "metadata": {
        "id": "PdnNsERdF9PE",
        "colab_type": "code",
        "colab": {
          "base_uri": "https://localhost:8080/",
          "height": 233
        },
        "outputId": "55d11e9d-cf55-4318-e934-54528032e704"
      },
      "source": [
        "%%R\n",
        "t.test(decay$strength[decay$weeks==2], decay$strength[decay$weeks==16], alternative=\"two.sided\", conf.level=0.95)\n"
      ],
      "execution_count": 13,
      "outputs": [
        {
          "output_type": "display_data",
          "data": {
            "text/plain": [
              "\n",
              "\tWelch Two Sample t-test\n",
              "\n",
              "data:  decay$strength[decay$weeks == 2] and decay$strength[decay$weeks == 16]\n",
              "t = 0.98887, df = 4.651, p-value = 0.3713\n",
              "alternative hypothesis: true difference in means is not equal to 0\n",
              "95 percent confidence interval:\n",
              " -12.2789  27.0789\n",
              "sample estimates:\n",
              "mean of x mean of y \n",
              "    123.8     116.4 \n",
              "\n"
            ]
          },
          "metadata": {
            "tags": []
          }
        }
      ]
    }
  ]
}