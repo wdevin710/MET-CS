{
 "cells": [
  {
   "cell_type": "code",
   "execution_count": 2,
   "metadata": {},
   "outputs": [],
   "source": [
    "import pandas as pd\n",
    "import numpy as np\n",
    "from sklearn.metrics import mean_squared_error, r2_score"
   ]
  },
  {
   "cell_type": "markdown",
   "metadata": {},
   "source": [
    "#### Import our dataset named df"
   ]
  },
  {
   "cell_type": "code",
   "execution_count": 8,
   "metadata": {},
   "outputs": [
    {
     "data": {
      "text/html": [
       "<div>\n",
       "<style scoped>\n",
       "    .dataframe tbody tr th:only-of-type {\n",
       "        vertical-align: middle;\n",
       "    }\n",
       "\n",
       "    .dataframe tbody tr th {\n",
       "        vertical-align: top;\n",
       "    }\n",
       "\n",
       "    .dataframe thead th {\n",
       "        text-align: right;\n",
       "    }\n",
       "</style>\n",
       "<table border=\"1\" class=\"dataframe\">\n",
       "  <thead>\n",
       "    <tr style=\"text-align: right;\">\n",
       "      <th></th>\n",
       "      <th>ID</th>\n",
       "      <th>Name</th>\n",
       "      <th>Age</th>\n",
       "      <th>Nationality</th>\n",
       "      <th>Overall</th>\n",
       "      <th>Potential</th>\n",
       "      <th>Club</th>\n",
       "      <th>Value_in_M</th>\n",
       "      <th>Wage_in_K</th>\n",
       "      <th>Jersey_Number</th>\n",
       "      <th>Height_in_Inches</th>\n",
       "      <th>Weight_in_lbs</th>\n",
       "      <th>Reactions</th>\n",
       "      <th>Balance</th>\n",
       "      <th>Strength</th>\n",
       "    </tr>\n",
       "  </thead>\n",
       "  <tbody>\n",
       "    <tr>\n",
       "      <th>0</th>\n",
       "      <td>158023</td>\n",
       "      <td>L. Messi</td>\n",
       "      <td>31</td>\n",
       "      <td>Argentina</td>\n",
       "      <td>94</td>\n",
       "      <td>94</td>\n",
       "      <td>FC Barcelona</td>\n",
       "      <td>110.5</td>\n",
       "      <td>565</td>\n",
       "      <td>10</td>\n",
       "      <td>67</td>\n",
       "      <td>159</td>\n",
       "      <td>95</td>\n",
       "      <td>95</td>\n",
       "      <td>59</td>\n",
       "    </tr>\n",
       "    <tr>\n",
       "      <th>1</th>\n",
       "      <td>20801</td>\n",
       "      <td>Cristiano Ronaldo</td>\n",
       "      <td>33</td>\n",
       "      <td>Portugal</td>\n",
       "      <td>94</td>\n",
       "      <td>94</td>\n",
       "      <td>Juventus</td>\n",
       "      <td>77.0</td>\n",
       "      <td>405</td>\n",
       "      <td>7</td>\n",
       "      <td>74</td>\n",
       "      <td>183</td>\n",
       "      <td>96</td>\n",
       "      <td>70</td>\n",
       "      <td>79</td>\n",
       "    </tr>\n",
       "    <tr>\n",
       "      <th>2</th>\n",
       "      <td>190871</td>\n",
       "      <td>Neymar Jr</td>\n",
       "      <td>26</td>\n",
       "      <td>Brazil</td>\n",
       "      <td>92</td>\n",
       "      <td>93</td>\n",
       "      <td>Paris Saint-Germain</td>\n",
       "      <td>118.5</td>\n",
       "      <td>290</td>\n",
       "      <td>10</td>\n",
       "      <td>69</td>\n",
       "      <td>150</td>\n",
       "      <td>94</td>\n",
       "      <td>84</td>\n",
       "      <td>49</td>\n",
       "    </tr>\n",
       "    <tr>\n",
       "      <th>3</th>\n",
       "      <td>193080</td>\n",
       "      <td>De Gea</td>\n",
       "      <td>27</td>\n",
       "      <td>Spain</td>\n",
       "      <td>91</td>\n",
       "      <td>93</td>\n",
       "      <td>Manchester United</td>\n",
       "      <td>72.0</td>\n",
       "      <td>260</td>\n",
       "      <td>1</td>\n",
       "      <td>76</td>\n",
       "      <td>168</td>\n",
       "      <td>90</td>\n",
       "      <td>43</td>\n",
       "      <td>64</td>\n",
       "    </tr>\n",
       "    <tr>\n",
       "      <th>4</th>\n",
       "      <td>192985</td>\n",
       "      <td>K. De Bruyne</td>\n",
       "      <td>27</td>\n",
       "      <td>Belgium</td>\n",
       "      <td>91</td>\n",
       "      <td>92</td>\n",
       "      <td>Manchester City</td>\n",
       "      <td>102.0</td>\n",
       "      <td>355</td>\n",
       "      <td>7</td>\n",
       "      <td>71</td>\n",
       "      <td>154</td>\n",
       "      <td>91</td>\n",
       "      <td>77</td>\n",
       "      <td>75</td>\n",
       "    </tr>\n",
       "  </tbody>\n",
       "</table>\n",
       "</div>"
      ],
      "text/plain": [
       "       ID               Name  Age Nationality  Overall  Potential  \\\n",
       "0  158023           L. Messi   31   Argentina       94         94   \n",
       "1   20801  Cristiano Ronaldo   33    Portugal       94         94   \n",
       "2  190871          Neymar Jr   26      Brazil       92         93   \n",
       "3  193080             De Gea   27       Spain       91         93   \n",
       "4  192985       K. De Bruyne   27     Belgium       91         92   \n",
       "\n",
       "                  Club  Value_in_M  Wage_in_K  Jersey_Number  \\\n",
       "0         FC Barcelona       110.5        565             10   \n",
       "1             Juventus        77.0        405              7   \n",
       "2  Paris Saint-Germain       118.5        290             10   \n",
       "3    Manchester United        72.0        260              1   \n",
       "4      Manchester City       102.0        355              7   \n",
       "\n",
       "   Height_in_Inches  Weight_in_lbs  Reactions  Balance  Strength  \n",
       "0                67            159         95       95        59  \n",
       "1                74            183         96       70        79  \n",
       "2                69            150         94       84        49  \n",
       "3                76            168         90       43        64  \n",
       "4                71            154         91       77        75  "
      ]
     },
     "execution_count": 8,
     "metadata": {},
     "output_type": "execute_result"
    }
   ],
   "source": [
    "df = pd.read_csv(\"/Users/haowu/Desktop/Boston_University_Graduate_Study/github/MET-CS/CS 767/Data/Assignment_2.csv\")\n",
    "df.head()"
   ]
  },
  {
   "cell_type": "markdown",
   "metadata": {},
   "source": [
    "#### Check if there any null value will effect our perdict"
   ]
  },
  {
   "cell_type": "code",
   "execution_count": 9,
   "metadata": {},
   "outputs": [
    {
     "data": {
      "text/plain": [
       "ID                  0\n",
       "Name                0\n",
       "Age                 0\n",
       "Nationality         0\n",
       "Overall             0\n",
       "Potential           0\n",
       "Club                1\n",
       "Value_in_M          0\n",
       "Wage_in_K           0\n",
       "Jersey_Number       0\n",
       "Height_in_Inches    0\n",
       "Weight_in_lbs       0\n",
       "Reactions           0\n",
       "Balance             0\n",
       "Strength            0\n",
       "dtype: int64"
      ]
     },
     "execution_count": 9,
     "metadata": {},
     "output_type": "execute_result"
    }
   ],
   "source": [
    "df.isnull().sum()  "
   ]
  },
  {
   "cell_type": "code",
   "execution_count": 10,
   "metadata": {},
   "outputs": [],
   "source": [
    "from sklearn.linear_model import LinearRegression\n",
    "from sklearn.model_selection import train_test_split"
   ]
  },
  {
   "cell_type": "markdown",
   "metadata": {},
   "source": [
    "#### Set x as independent variable, y as dependent variable"
   ]
  },
  {
   "cell_type": "code",
   "execution_count": 11,
   "metadata": {},
   "outputs": [],
   "source": [
    "x = df[['Reactions','Balance','Strength']]\n",
    "y = df['Value_in_M']"
   ]
  },
  {
   "cell_type": "code",
   "execution_count": 12,
   "metadata": {},
   "outputs": [],
   "source": [
    "x_train, x_test, y_train, y_test = train_test_split(x, y, test_size=0.2, random_state=10)"
   ]
  },
  {
   "cell_type": "code",
   "execution_count": 13,
   "metadata": {},
   "outputs": [],
   "source": [
    "lr = LinearRegression()\n",
    "model = lr.fit(x_train,y_train)"
   ]
  },
  {
   "cell_type": "code",
   "execution_count": 14,
   "metadata": {},
   "outputs": [
    {
     "name": "stdout",
     "output_type": "stream",
     "text": [
      "-176.6834737565495 [2.3974095  0.11688426 0.03696524]\n"
     ]
    }
   ],
   "source": [
    "print(model.intercept_,model.coef_)"
   ]
  },
  {
   "cell_type": "markdown",
   "metadata": {},
   "source": [
    "#### Value_in_M = -176.684 + 2.397xReactions + 0.117xBalance + 0.037xStrength"
   ]
  },
  {
   "cell_type": "markdown",
   "metadata": {},
   "source": [
    "#### Get our R_square and MSE evaluate our model"
   ]
  },
  {
   "cell_type": "code",
   "execution_count": 15,
   "metadata": {},
   "outputs": [
    {
     "name": "stdout",
     "output_type": "stream",
     "text": [
      "MSE: 134.17165302152824\n",
      "R2: 0.4644363812744301\n"
     ]
    }
   ],
   "source": [
    "y_pred = model.predict(x_test)\n",
    "print(\"MSE:\",mean_squared_error(y_test, y_pred))\n",
    "print(\"R2:\",r2_score(y_test, y_pred))"
   ]
  },
  {
   "cell_type": "markdown",
   "metadata": {},
   "source": [
    "#### We know that our model is not very ideal by R2, but the MSE is very low, which means that our model may be overfitting."
   ]
  },
  {
   "cell_type": "markdown",
   "metadata": {},
   "source": [
    "#### Since we did not observe the relationship between the independent variable and the dependent variable by drawing a graph in advance, it is not easy for us to draw conclusions."
   ]
  },
  {
   "cell_type": "markdown",
   "metadata": {},
   "source": [
    "#### BGD"
   ]
  },
  {
   "cell_type": "code",
   "execution_count": 16,
   "metadata": {},
   "outputs": [],
   "source": [
    "import matplotlib.pyplot as plt"
   ]
  },
  {
   "cell_type": "code",
   "execution_count": 69,
   "metadata": {},
   "outputs": [],
   "source": [
    "def hypothesis(X, theta):\n",
    "    return np.dot(X, theta)"
   ]
  },
  {
   "cell_type": "code",
   "execution_count": 68,
   "metadata": {},
   "outputs": [],
   "source": [
    "def gradient(X, y, theta):\n",
    "    h = hypothesis(X, theta)\n",
    "    grad = np.dot(X.transpose(), (h - y))\n",
    "    return grad"
   ]
  },
  {
   "cell_type": "code",
   "execution_count": 67,
   "metadata": {},
   "outputs": [],
   "source": [
    "def cost(X, y, theta):\n",
    "    h = hypothesis(X, theta)\n",
    "    J = np.dot((h - y).transpose(), (h - y))\n",
    "    J /= 2\n",
    "    return J[0]"
   ]
  },
  {
   "cell_type": "code",
   "execution_count": 76,
   "metadata": {},
   "outputs": [],
   "source": [
    "def gradientDescent(X, y, theta,lr, iters):\n",
    "    error_list = []\n",
    "    for i in range(iters):\n",
    "        theta = theta - lr * gradient(X, y, theta)\n",
    "        error_list.append(cost(X, y, theta))\n",
    "    return theta, error_list"
   ]
  },
  {
   "cell_type": "code",
   "execution_count": null,
   "metadata": {},
   "outputs": [],
   "source": []
  },
  {
   "cell_type": "code",
   "execution_count": null,
   "metadata": {},
   "outputs": [],
   "source": []
  },
  {
   "cell_type": "code",
   "execution_count": null,
   "metadata": {},
   "outputs": [],
   "source": []
  },
  {
   "cell_type": "code",
   "execution_count": 150,
   "metadata": {},
   "outputs": [],
   "source": [
    "theta = np.ones((x_train.shape[1]))\n",
    "cost_history = [0]*1000"
   ]
  },
  {
   "cell_type": "code",
   "execution_count": 137,
   "metadata": {},
   "outputs": [
    {
     "data": {
      "text/plain": [
       "array([1., 1., 1.])"
      ]
     },
     "execution_count": 137,
     "metadata": {},
     "output_type": "execute_result"
    }
   ],
   "source": [
    "theta"
   ]
  },
  {
   "cell_type": "markdown",
   "metadata": {},
   "source": [
    "#### We first define the value we need to use from start to finish -----MSE (can also be a loss function)"
   ]
  },
  {
   "cell_type": "code",
   "execution_count": 132,
   "metadata": {},
   "outputs": [],
   "source": [
    "def cost_function(x, y, theta):\n",
    "    y_pred = np.dot(x,theta.T)\n",
    "    cost =  np.sum((y_pred - y) ** 2)/(2*len(y))\n",
    "    return cost"
   ]
  },
  {
   "cell_type": "code",
   "execution_count": 152,
   "metadata": {},
   "outputs": [],
   "source": [
    "def batch_gradient_descent(x,y,theta,lr,iters):\n",
    "    x_norm = (x - x.min()) / (x.max() - x.min()) ## normalization our data\n",
    "    x = x_norm\n",
    "    for i in range(0,iters):         \n",
    "        y_pred = np.dot(x,theta.T)\n",
    "        cost =  np.sum((y_pred - y) ** 2)/(2*len(y))\n",
    "        theta = theta - (lr/len(y)) * np.dot(y_pred - y,x)\n",
    "        cost_history[i] = cost"
   ]
  },
  {
   "cell_type": "code",
   "execution_count": 153,
   "metadata": {},
   "outputs": [
    {
     "data": {
      "text/plain": [
       "Text(0.5, 1.0, 'BDG Train')"
      ]
     },
     "execution_count": 153,
     "metadata": {},
     "output_type": "execute_result"
    },
    {
     "data": {
      "image/png": "[encoded data removed]",
      "text/plain": [
       "<Figure size 432x288 with 1 Axes>"
      ]
     },
     "metadata": {
      "needs_background": "light"
     },
     "output_type": "display_data"
    }
   ],
   "source": [
    "batch_gradient_descent(x_train,y_train,theta,0.01,200)\n",
    "plt.plot(cost_history)\n",
    "plt.ylabel('Mean Square Error')\n",
    "plt.xlabel('Iterations')\n",
    "plt.title('BDG Train')"
   ]
  },
  {
   "cell_type": "code",
   "execution_count": 56,
   "metadata": {},
   "outputs": [
    {
     "name": "stderr",
     "output_type": "stream",
     "text": [
      "/var/folders/h3/jzsxdpmd7gdfh6kxryfd8f240000gn/T/ipykernel_70375/3851091141.py:4: RuntimeWarning: invalid value encountered in subtract\n",
      "  theta = theta - (lr/len(y)) * np.dot(y_pred - y,x)\n"
     ]
    },
    {
     "data": {
      "text/plain": [
       "Text(0.5, 1.0, 'BDG Test')"
      ]
     },
     "execution_count": 56,
     "metadata": {},
     "output_type": "execute_result"
    },
    {
     "data": {
      "image/png": "[encoded data removed]",
      "text/plain": [
       "<Figure size 432x288 with 1 Axes>"
      ]
     },
     "metadata": {
      "needs_background": "light"
     },
     "output_type": "display_data"
    }
   ],
   "source": [
    "batch_gradient_descent(x_test,y_test,theta,0.01,1000)\n",
    "plt.plot(cost_history)\n",
    "plt.ylabel('Mean Square Error')\n",
    "plt.xlabel('Iterations')\n",
    "plt.title('BDG Test')"
   ]
  },
  {
   "cell_type": "markdown",
   "metadata": {},
   "source": [
    "#### By constantly iterating over the overall dataset, we can find that at 200 iterations, we basically reach the minimum."
   ]
  },
  {
   "cell_type": "markdown",
   "metadata": {},
   "source": [
    "## Stochastic gradient descent"
   ]
  },
  {
   "cell_type": "code",
   "execution_count": 16,
   "metadata": {},
   "outputs": [],
   "source": [
    "import random"
   ]
  },
  {
   "cell_type": "markdown",
   "metadata": {},
   "source": [
    "#### The key to SGD is to randomly select a set of data sets and then perform update iterations."
   ]
  },
  {
   "cell_type": "code",
   "execution_count": 17,
   "metadata": {},
   "outputs": [],
   "source": [
    "theta = np.zeros(x_train.shape[1])\n",
    "cost_history = [0] * 1000\n",
    "def stochastic_gradient_descent(x,y,theta,lr,iters):\n",
    "    x_norm = (x - x.min()) / (x.max() - x.min()) ## normalization our data\n",
    "    x = x_norm\n",
    "    data = []\n",
    "    for j in range(len(x)):\n",
    "        data.append(j)\n",
    "    for i in range(iters):\n",
    "        index = random.sample(data,1)\n",
    "        index = index[0]\n",
    "        y_pred = np.dot(x[index:index+1],theta.T)\n",
    "        theta = theta - (lr/len(y)) * np.dot(y_pred - y[index:index+1],x[index:index+1])\n",
    "        cost_history[i] = cost_function(x,y,theta)\n",
    "            "
   ]
  },
  {
   "cell_type": "code",
   "execution_count": 18,
   "metadata": {},
   "outputs": [
    {
     "data": {
      "text/plain": [
       "Text(0.5, 1.0, 'SDG Train')"
      ]
     },
     "execution_count": 18,
     "metadata": {},
     "output_type": "execute_result"
    },
    {
     "data": {
      "image/png": "[encoded data removed]",
      "text/plain": [
       "<Figure size 432x288 with 1 Axes>"
      ]
     },
     "metadata": {
      "needs_background": "light"
     },
     "output_type": "display_data"
    }
   ],
   "source": [
    "stochastic_gradient_descent(x_train,y_train,theta,0.01,1000)\n",
    "plt.plot(cost_history)\n",
    "plt.ylabel('Mean Square Error')\n",
    "plt.xlabel('Iterations')\n",
    "plt.title('SDG Train')"
   ]
  },
  {
   "cell_type": "code",
   "execution_count": 19,
   "metadata": {},
   "outputs": [
    {
     "data": {
      "text/plain": [
       "Text(0.5, 1.0, 'SDG Test')"
      ]
     },
     "execution_count": 19,
     "metadata": {},
     "output_type": "execute_result"
    },
    {
     "data": {
      "image/png": "[encoded data removed]",
      "text/plain": [
       "<Figure size 432x288 with 1 Axes>"
      ]
     },
     "metadata": {
      "needs_background": "light"
     },
     "output_type": "display_data"
    }
   ],
   "source": [
    "stochastic_gradient_descent(x_test,y_test,theta,0.00001,1000)\n",
    "plt.plot(cost_history)\n",
    "plt.ylabel('Mean Square Error')\n",
    "plt.xlabel('Iterations')\n",
    "plt.title('SDG Test')"
   ]
  },
  {
   "cell_type": "markdown",
   "metadata": {},
   "source": [
    "#### We can find that as we increase the number of iterations, we get closer and closer to the minimum, but this process is slow."
   ]
  },
  {
   "cell_type": "markdown",
   "metadata": {},
   "source": [
    "# Mini-Batch"
   ]
  },
  {
   "cell_type": "code",
   "execution_count": 30,
   "metadata": {},
   "outputs": [],
   "source": [
    "import math\n",
    "from random import shuffle"
   ]
  },
  {
   "cell_type": "markdown",
   "metadata": {},
   "source": [
    "#### Setting up the minibatch equation allows us to shuffle and group the dataset."
   ]
  },
  {
   "cell_type": "code",
   "execution_count": 32,
   "metadata": {},
   "outputs": [],
   "source": [
    "def mini_batches_function(x,y,minibatch_size):\n",
    "    m = x.shape[0]\n",
    "    n_minibatches = m // minibatch_size\n",
    "    mini_batches = []\n",
    "    x,y = shuffle(x,y)\n",
    "    for j in range (0,n_minibatches):\n",
    "        x_batch = x[j*minibatch_size:(j+1)*minibatch_size]\n",
    "        y_batch = y[j*minibatch_size:(j+1)*minibatch_size]\n",
    "        mini_batch = (x_batch, y_batch)\n",
    "        mini_batches.append(mini_batch)\n",
    "    if m % minibatch_size != 0:\n",
    "        x_batch = x[n_minibatches*12:]\n",
    "        y_batch = y[n_minibatches*12:]\n",
    "        mini_batch = (x_batch, y_batch)\n",
    "        mini_batches.append(mini_batch)\n",
    "    return mini_batches"
   ]
  },
  {
   "cell_type": "code",
   "execution_count": 33,
   "metadata": {},
   "outputs": [],
   "source": [
    "theta = np.zeros(x_train.shape[1])\n",
    "cost_history = [0] * 1000"
   ]
  },
  {
   "cell_type": "code",
   "execution_count": 34,
   "metadata": {},
   "outputs": [],
   "source": [
    "def mini_batch_function(x,y,theta,mini_batch_size,ler,iters):\n",
    "    x_norm = (x - x.min()) / (x.max() - x.min()) ## normalization our data\n",
    "    x = x_norm\n",
    "    for i in range(iters):\n",
    "        minibatches = mini_batches_function(x, y, mini_batch_size)\n",
    "        for minibatch in minibatches:\n",
    "            (x_batch, y_batch) = minibatch\n",
    "            y_pred = np.dot(x_batch,theta)\n",
    "            theta = theta - (ler/len(y_batch)) * np.dot(y_pred - y_batch,x_batch)\n",
    "    cost_history[i] = cost_function(x_train,y_train,theta)"
   ]
  },
  {
   "cell_type": "code",
   "execution_count": null,
   "metadata": {},
   "outputs": [],
   "source": [
    "mini_batch_function(x_train,y_train,theta,12,0.01,1000)\n",
    "plt.plot(cost_history)\n",
    "plt.ylabel('Mean Square Error')\n",
    "plt.xlabel('Iterations')\n",
    "plt.title('MBGD_train')"
   ]
  },
  {
   "cell_type": "code",
   "execution_count": 587,
   "metadata": {},
   "outputs": [
    {
     "data": {
      "text/plain": [
       "Text(0.5, 1.0, 'MBGD_test')"
      ]
     },
     "execution_count": 587,
     "metadata": {},
     "output_type": "execute_result"
    },
    {
     "data": {
      "image/png": "[encoded data removed]",
      "text/plain": [
       "<Figure size 432x288 with 1 Axes>"
      ]
     },
     "metadata": {
      "needs_background": "light"
     },
     "output_type": "display_data"
    }
   ],
   "source": [
    "mini_batch_function(x_test,y_test,theta,12,0.01,1000)\n",
    "plt.plot(cost_history)\n",
    "plt.ylabel('Mean Square Error')\n",
    "plt.xlabel('Iterations')\n",
    "plt.title('MBGD_test')"
   ]
  },
  {
   "cell_type": "markdown",
   "metadata": {},
   "source": [
    "# Problem 2 (10 points)\n",
    "### What are the hyper parameters of ADAM Gradient descent and what are their impact on performance of the ADAM Gradient Descent?\n"
   ]
  },
  {
   "cell_type": "markdown",
   "metadata": {},
   "source": [
    "## Answer：\n",
    "### Taking the advantages of both momentum and RMSProp\n",
    "### The hyper parameter is the decay rate of the sum of the first-order momentum, and the decay rate of the second-order moment gradient sum of squares.Adam's speed comes from the ability of momentum and RMSProp to adapt to gradients in different directions. The combination of the two makes it even stronger."
   ]
  },
  {
   "cell_type": "markdown",
   "metadata": {},
   "source": [
    "# Problem 3 (10 points)\n",
    "### RMSProp is Prof Geoffrey Hinton’s favorite Gradient Descent approach. Why? Name two reasons.\n"
   ]
  },
  {
   "cell_type": "markdown",
   "metadata": {},
   "source": [
    "## Answer:\n",
    "### Rmsprop (Root Mean Square Propagation) fixes AdaGrad being very slow by adding a decay factor. The RMSProp algorithm does not directly accumulate squared gradients like the AdaGrad algorithm, but adds a decay coefficient to control how much historical information is obtained.\n",
    "### In the direction where the parameter space is more gentle, more progress will be made (because of the smoothness, the squared sum of the historical gradients is smaller, and the corresponding learning decline is smaller), and the steep direction can be made gentle, thereby speeding up the training speed ."
   ]
  },
  {
   "cell_type": "code",
   "execution_count": null,
   "metadata": {},
   "outputs": [],
   "source": []
  },
  {
   "cell_type": "code",
   "execution_count": null,
   "metadata": {},
   "outputs": [],
   "source": []
  }
 ],
 "metadata": {
  "kernelspec": {
   "display_name": "Python 3.9.2 64-bit",
   "language": "python",
   "name": "python3"
  },
  "language_info": {
   "codemirror_mode": {
    "name": "ipython",
    "version": 3
   },
   "file_extension": ".py",
   "mimetype": "text/x-python",
   "name": "python",
   "nbconvert_exporter": "python",
   "pygments_lexer": "ipython3",
   "version": "3.9.2"
  },
  "vscode": {
   "interpreter": {
    "hash": "7812ea015bdcee6f23a998adcdd2ef97c151c0c241b7b7070987d9313e41299d"
   }
  }
 },
 "nbformat": 4,
 "nbformat_minor": 4
}
