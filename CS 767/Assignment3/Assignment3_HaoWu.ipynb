{
 "cells": [
  {
   "cell_type": "code",
   "execution_count": 1,
   "metadata": {},
   "outputs": [],
   "source": [
    "import pandas as pd\n",
    "import numpy as np\n",
    "import math\n",
    "import statistics"
   ]
  },
  {
   "cell_type": "code",
   "execution_count": 2,
   "metadata": {},
   "outputs": [],
   "source": [
    "df = pd.read_csv(\"/Users/haowu/Desktop/Boston_University_Graduate_Study/github/MET-CS/CS 767/Data/Assignment_3_Hitters.csv\")"
   ]
  },
  {
   "cell_type": "code",
   "execution_count": 3,
   "metadata": {},
   "outputs": [
    {
     "data": {
      "text/plain": [
       "Unnamed: 0     object\n",
       "AtBat           int64\n",
       "Hits            int64\n",
       "HmRun           int64\n",
       "Runs            int64\n",
       "RBI             int64\n",
       "Walks           int64\n",
       "Years           int64\n",
       "CAtBat          int64\n",
       "CHits           int64\n",
       "CHmRun          int64\n",
       "CRuns           int64\n",
       "CRBI            int64\n",
       "CWalks          int64\n",
       "League         object\n",
       "Division       object\n",
       "PutOuts         int64\n",
       "Assists         int64\n",
       "Errors          int64\n",
       "Salary        float64\n",
       "NewLeague      object\n",
       "dtype: object"
      ]
     },
     "execution_count": 3,
     "metadata": {},
     "output_type": "execute_result"
    }
   ],
   "source": [
    "df.dtypes"
   ]
  },
  {
   "cell_type": "code",
   "execution_count": 4,
   "metadata": {},
   "outputs": [
    {
     "data": {
      "text/plain": [
       "Unnamed: 0     0\n",
       "AtBat          0\n",
       "Hits           0\n",
       "HmRun          0\n",
       "Runs           0\n",
       "RBI            0\n",
       "Walks          0\n",
       "Years          0\n",
       "CAtBat         0\n",
       "CHits          0\n",
       "CHmRun         0\n",
       "CRuns          0\n",
       "CRBI           0\n",
       "CWalks         0\n",
       "League         0\n",
       "Division       0\n",
       "PutOuts        0\n",
       "Assists        0\n",
       "Errors         0\n",
       "Salary        59\n",
       "NewLeague      0\n",
       "dtype: int64"
      ]
     },
     "execution_count": 4,
     "metadata": {},
     "output_type": "execute_result"
    }
   ],
   "source": [
    "df.isna().sum()"
   ]
  },
  {
   "cell_type": "code",
   "execution_count": 5,
   "metadata": {},
   "outputs": [
    {
     "data": {
      "text/plain": [
       "0"
      ]
     },
     "execution_count": 5,
     "metadata": {},
     "output_type": "execute_result"
    }
   ],
   "source": [
    "temp = df['Salary'].median()\n",
    "df.fillna(temp, inplace = True)\n",
    "df['Salary'].isna().sum()"
   ]
  },
  {
   "cell_type": "markdown",
   "metadata": {},
   "source": [
    "### Null value have been replaced"
   ]
  },
  {
   "cell_type": "code",
   "execution_count": 6,
   "metadata": {},
   "outputs": [
    {
     "data": {
      "text/plain": [
       "A    175\n",
       "N    147\n",
       "Name: League, dtype: int64"
      ]
     },
     "execution_count": 6,
     "metadata": {},
     "output_type": "execute_result"
    }
   ],
   "source": [
    "df['League'].value_counts()"
   ]
  },
  {
   "cell_type": "code",
   "execution_count": 7,
   "metadata": {},
   "outputs": [
    {
     "data": {
      "text/plain": [
       "W    165\n",
       "E    157\n",
       "Name: Division, dtype: int64"
      ]
     },
     "execution_count": 7,
     "metadata": {},
     "output_type": "execute_result"
    }
   ],
   "source": [
    "df['Division'].value_counts()"
   ]
  },
  {
   "cell_type": "markdown",
   "metadata": {},
   "source": [
    "#### Use binary to represent league and Division"
   ]
  },
  {
   "cell_type": "code",
   "execution_count": 8,
   "metadata": {},
   "outputs": [],
   "source": [
    "league_temp = [0] * len(df['League'])\n",
    "division_temp = [0] * len(df['Division'])"
   ]
  },
  {
   "cell_type": "code",
   "execution_count": 9,
   "metadata": {},
   "outputs": [],
   "source": [
    "for i in range(len(df['League'])):\n",
    "    if df['League'][i] == 'A':\n",
    "        league_temp[i] = 1\n",
    "    else:\n",
    "        league_temp[i] = 0"
   ]
  },
  {
   "cell_type": "code",
   "execution_count": 10,
   "metadata": {},
   "outputs": [],
   "source": [
    "for i in range(len(df['Division'])):\n",
    "    if df['Division'][i] == 'W':\n",
    "        division_temp[i] = 1\n",
    "    else:\n",
    "        division_temp[i] = 0"
   ]
  },
  {
   "cell_type": "code",
   "execution_count": 11,
   "metadata": {},
   "outputs": [],
   "source": [
    "df['League'] = league_temp\n",
    "df['Division'] = division_temp\n"
   ]
  },
  {
   "cell_type": "code",
   "execution_count": 12,
   "metadata": {},
   "outputs": [],
   "source": [
    "def leaky_relu(x):\n",
    "    return np.maximum(0.05* x , x)"
   ]
  },
  {
   "cell_type": "code",
   "execution_count": 13,
   "metadata": {},
   "outputs": [],
   "source": [
    "from sklearn.metrics import mean_squared_error, r2_score\n",
    "from sklearn.model_selection import train_test_split\n"
   ]
  },
  {
   "cell_type": "code",
   "execution_count": 14,
   "metadata": {},
   "outputs": [],
   "source": [
    "y = df['Salary']\n",
    "x = df.drop(['Salary','Unnamed: 0','NewLeague'],axis = 1)"
   ]
  },
  {
   "cell_type": "code",
   "execution_count": 15,
   "metadata": {},
   "outputs": [],
   "source": [
    "x_train, x_test, y_train, y_test = train_test_split(x, y, test_size=0.2, random_state=10)"
   ]
  },
  {
   "cell_type": "markdown",
   "metadata": {},
   "source": [
    "#### b = (X'*X)**-1 * X'* Y formula for multiple vector"
   ]
  },
  {
   "cell_type": "code",
   "execution_count": 16,
   "metadata": {},
   "outputs": [],
   "source": [
    "def linear_fit(x_train,y_train):\n",
    "    x_b = np.hstack([np.ones((len(x_train),1)),x_train])\n",
    "    lf_theta = np.linalg.pinv(np.dot(x_b.T,x_b)).dot(x_b.T).dot(y_train)\n",
    "    lf_theta = leaky_relu(lf_theta)\n",
    "    return lf_theta\n",
    "    "
   ]
  },
  {
   "cell_type": "code",
   "execution_count": 17,
   "metadata": {},
   "outputs": [],
   "source": [
    "def predict(a):\n",
    "    x_b = np.hstack([np.ones((len(x_train),1)),x_train])\n",
    "    return np.dot(x_b,reg)"
   ]
  },
  {
   "cell_type": "code",
   "execution_count": 80,
   "metadata": {},
   "outputs": [],
   "source": [
    "reg = linear_fit(x_train,y_train)\n",
    "y_predict = predict(x_train)\n"
   ]
  },
  {
   "cell_type": "code",
   "execution_count": 19,
   "metadata": {},
   "outputs": [
    {
     "name": "stdout",
     "output_type": "stream",
     "text": [
      "Inter: 293.54243212930186 \n",
      "Coef: [-1.16894186e-01  7.27012713e+00  8.38683772e+00 -4.36910867e-02\n",
      " -8.58558823e-03  5.48196907e+00 -4.30850609e-01 -5.70603957e-03\n",
      " -1.15610332e-02 -8.25540417e-02  1.71310397e+00  1.02865772e+00\n",
      " -3.54130536e-02 -2.80018545e+00 -5.00370218e+00  2.26155532e-01\n",
      "  4.24724460e-01 -1.46906215e-01] \n",
      "R2score: -22.773855454774054\n"
     ]
    }
   ],
   "source": [
    "print(\"Inter:\",reg[0],\"\\nCoef:\",reg[1:],\"\\nR2score:\",r2_score(y_train,y_predict))"
   ]
  },
  {
   "cell_type": "code",
   "execution_count": 20,
   "metadata": {},
   "outputs": [],
   "source": [
    "import matplotlib.pyplot as plt"
   ]
  },
  {
   "cell_type": "code",
   "execution_count": 101,
   "metadata": {},
   "outputs": [],
   "source": [
    "def batch_gradient_descent(x,y,theta,lr,iters):\n",
    "    x_norm = (x - x.min()) / (x.max() - x.min()) ## normalization our data\n",
    "    x = x_norm\n",
    "    cost_history = [0]*iters\n",
    "    for i in range(0,iters):         \n",
    "        y_pred = np.dot(x,theta.T)\n",
    "        cost =  np.sum((y_pred - y) ** 2)/(2*len(y))\n",
    "        theta = theta - lr * (np.dot((y_pred - y),x)/len(y))\n",
    "        cost_history[i] = cost\n",
    "    return cost_history\n",
    "    "
   ]
  },
  {
   "cell_type": "code",
   "execution_count": 84,
   "metadata": {},
   "outputs": [],
   "source": [
    "a =np.arange(0.1,10.1,0.1)"
   ]
  },
  {
   "cell_type": "code",
   "execution_count": 59,
   "metadata": {},
   "outputs": [],
   "source": [
    "best_lr = [0]*100\n",
    "for i in range(0,100):\n",
    "    theta = np.ones((x_train.shape[1]))\n",
    "    history = batch_gradient_descent(x_train,y_train,theta,a[i],1000)\n",
    "    best_lr[i] = sum(history)/1000\n"
   ]
  },
  {
   "cell_type": "code",
   "execution_count": 76,
   "metadata": {},
   "outputs": [
    {
     "data": {
      "text/plain": [
       "0.7000000000000001"
      ]
     },
     "execution_count": 76,
     "metadata": {},
     "output_type": "execute_result"
    }
   ],
   "source": [
    "best_lr.index(min(best_lr)) * 0.1"
   ]
  },
  {
   "cell_type": "markdown",
   "metadata": {},
   "source": [
    "#### We got the best learning rate 0.7"
   ]
  },
  {
   "cell_type": "markdown",
   "metadata": {},
   "source": [
    "#### L2 with 0.01"
   ]
  },
  {
   "cell_type": "code",
   "execution_count": 105,
   "metadata": {},
   "outputs": [],
   "source": [
    "def bgd_L2(x,y,theta,lr,iters):\n",
    "    x_norm = (x - x.min()) / (x.max() - x.min()) ## normalization our data\n",
    "    x = x_norm\n",
    "    cost_history = [0]*iters\n",
    "    for i in range(0,iters):         \n",
    "        y_pred = np.dot(x,theta.T)\n",
    "        cost =  np.sum((y_pred - y) ** 2) + (0.01* np.sum(theta.T[1:])**2)/(2*len(y))\n",
    "        theta = theta - (lr/len(y)) * (np.dot((y_pred - y),x) + (0.01* np.sum(theta.T[1:])**2))\n",
    "        cost_history[i] = cost\n",
    "    return cost_history"
   ]
  },
  {
   "cell_type": "code",
   "execution_count": 106,
   "metadata": {},
   "outputs": [
    {
     "data": {
      "text/plain": [
       "Text(0.5, 1.0, 'BDG Train')"
      ]
     },
     "execution_count": 106,
     "metadata": {},
     "output_type": "execute_result"
    },
    {
     "data": {
      "image/png": "[encoded data removed]",
      "text/plain": [
       "<Figure size 432x288 with 1 Axes>"
      ]
     },
     "metadata": {
      "needs_background": "light"
     },
     "output_type": "display_data"
    }
   ],
   "source": [
    "theta = np.ones((x_train.shape[1]))\n",
    "BGD_History = bgd_L2(x_train,y_train,theta,0.7,1000)\n",
    "plt.plot(BGD_History)\n",
    "plt.ylabel('Mean Square Error')\n",
    "plt.xlabel('Iterations')\n",
    "plt.title('BDG Train')"
   ]
  },
  {
   "cell_type": "markdown",
   "metadata": {},
   "source": [
    "#### L1 with 0.01"
   ]
  },
  {
   "cell_type": "code",
   "execution_count": 103,
   "metadata": {},
   "outputs": [],
   "source": [
    "def bgd_L1(x,y,theta,lr,iters):\n",
    "    x_norm = (x - x.min()) / (x.max() - x.min()) ## normalization our data\n",
    "    x = x_norm\n",
    "    cost_history = [0]*iters\n",
    "    for i in range(0,iters):         \n",
    "        y_pred = np.dot(x,theta.T)\n",
    "        cost =  np.sum((y_pred - y) ** 2) + abs(0.01* np.sum(theta.T[1:]))/(2*len(y))\n",
    "        theta = theta - (lr/len(y)) * (np.dot((y_pred - y),x) +abs(0.01* np.sum(theta.T[1:])))\n",
    "        cost_history[i] = cost\n",
    "    return cost_history"
   ]
  },
  {
   "cell_type": "code",
   "execution_count": 104,
   "metadata": {},
   "outputs": [
    {
     "data": {
      "text/plain": [
       "Text(0.5, 1.0, 'BDG Train')"
      ]
     },
     "execution_count": 104,
     "metadata": {},
     "output_type": "execute_result"
    },
    {
     "data": {
      "image/png": "[encoded data removed]",
      "text/plain": [
       "<Figure size 432x288 with 1 Axes>"
      ]
     },
     "metadata": {
      "needs_background": "light"
     },
     "output_type": "display_data"
    }
   ],
   "source": [
    "theta = np.ones((x_train.shape[1]))\n",
    "BGD_History = bgd_L1(x_train,y_train,theta,0.7,1000)\n",
    "plt.plot(BGD_History)\n",
    "plt.ylabel('Mean Square Error')\n",
    "plt.xlabel('Iterations')\n",
    "plt.title('BDG Train')"
   ]
  },
  {
   "cell_type": "markdown",
   "metadata": {},
   "source": [
    "#### Without Regularization and with L1,L2 lamba = 0.01"
   ]
  },
  {
   "cell_type": "code",
   "execution_count": 107,
   "metadata": {},
   "outputs": [],
   "source": [
    "def batch_gradient_descent(x,y,theta,lr,iters):\n",
    "    x_norm = (x - x.min()) / (x.max() - x.min()) ## normalization our data\n",
    "    x = x_norm\n",
    "    cost_history = [0]*iters\n",
    "    for i in range(0,iters):         \n",
    "        y_pred = np.dot(x,theta.T)\n",
    "        cost =  np.sum((y_pred - y) ** 2)/(2*len(y))\n",
    "        theta = theta - lr * (np.dot((y_pred - y),x)/len(y))\n",
    "        cost_history[i] = cost\n",
    "    return theta\n",
    "\n",
    "def bgd_L1(x,y,theta,lr,iters):\n",
    "    x_norm = (x - x.min()) / (x.max() - x.min()) ## normalization our data\n",
    "    x = x_norm\n",
    "    cost_history = [0]*iters\n",
    "    for i in range(0,iters):         \n",
    "        y_pred = np.dot(x,theta.T)\n",
    "        cost =  np.sum((y_pred - y) ** 2) + abs(0.01* np.sum(theta.T[1:]))/(2*len(y))\n",
    "        theta = theta - (lr/len(y)) * (np.dot((y_pred - y),x) +abs(0.01* np.sum(theta.T[1:])))\n",
    "        cost_history[i] = cost\n",
    "    return theta\n",
    "\n",
    "def bgd_L2(x,y,theta,lr,iters):\n",
    "    x_norm = (x - x.min()) / (x.max() - x.min()) ## normalization our data\n",
    "    x = x_norm\n",
    "    cost_history = [0]*iters\n",
    "    for i in range(0,iters):         \n",
    "        y_pred = np.dot(x,theta.T)\n",
    "        cost =  np.sum((y_pred - y) ** 2) + (0.01* np.sum(theta.T[1:])**2)/(2*len(y))\n",
    "        theta = theta - (lr/len(y)) * (np.dot((y_pred - y),x) + (0.01* np.sum(theta.T[1:])**2))\n",
    "        cost_history[i] = cost\n",
    "    return theta\n",
    "    "
   ]
  },
  {
   "cell_type": "code",
   "execution_count": 135,
   "metadata": {},
   "outputs": [],
   "source": [
    "theta = np.ones((x_train.shape[1]))\n",
    "Weight1 = batch_gradient_descent(x_train,y_train,theta,0.7,1000)\n",
    "Weight2 = bgd_L1(x_train,y_train,theta,0.7,1000)\n",
    "Weight3 = bgd_L2(x_train,y_train,theta,0.7,1000)"
   ]
  },
  {
   "cell_type": "code",
   "execution_count": 141,
   "metadata": {},
   "outputs": [],
   "source": [
    "def bgd_L1_2(x,y,theta,lr,iters):\n",
    "    x_norm = (x - x.min()) / (x.max() - x.min()) ## normalization our data\n",
    "    x = x_norm\n",
    "    cost_history = [0]*iters\n",
    "    for i in range(0,iters):         \n",
    "        y_pred = np.dot(x,theta.T)\n",
    "        cost =  np.sum((y_pred - y) ** 2) + abs(10* np.sum(theta.T[1:]))/(2*len(y))\n",
    "        theta = theta - (lr/len(y)) * (np.dot((y_pred - y),x) +abs(10* np.sum(theta.T[1:])))\n",
    "        cost_history[i] = cost\n",
    "    return theta\n",
    "\n",
    "def bgd_L2_2(x,y,theta,lr,iters):\n",
    "    x_norm = (x - x.min()) / (x.max() - x.min()) ## normalization our data\n",
    "    x = x_norm\n",
    "    for i in range(0,iters):         \n",
    "        y_pred = np.dot(x,theta.T)\n",
    "        theta = theta - (lr/len(y)) * (np.dot((y_pred - y),x) + np.sum(10*theta.T[1:]))\n",
    "    return theta"
   ]
  },
  {
   "cell_type": "code",
   "execution_count": 154,
   "metadata": {},
   "outputs": [],
   "source": [
    "Weight4 = bgd_L1_2(x_train,y_train,theta,0.7,1000)\n",
    "Weight5 = bgd_L2_2(x_train,y_train,theta,0.7,1000)"
   ]
  },
  {
   "cell_type": "code",
   "execution_count": 118,
   "metadata": {},
   "outputs": [],
   "source": [
    "from pandas.core.frame import DataFrame"
   ]
  },
  {
   "cell_type": "code",
   "execution_count": 149,
   "metadata": {},
   "outputs": [],
   "source": [
    "a = {\n",
    "    \"Original\": Weight1,\n",
    "    \"L1_0.01\": Weight2,\n",
    "    \"L2_0.01\": Weight3,\n",
    "    \"L1_10\": Weight4,\n",
    "    \"L2_10\": Weight5\n",
    "}\n"
   ]
  },
  {
   "cell_type": "code",
   "execution_count": 153,
   "metadata": {},
   "outputs": [
    {
     "data": {
      "text/html": [
       "<div>\n",
       "<style scoped>\n",
       "    .dataframe tbody tr th:only-of-type {\n",
       "        vertical-align: middle;\n",
       "    }\n",
       "\n",
       "    .dataframe tbody tr th {\n",
       "        vertical-align: top;\n",
       "    }\n",
       "\n",
       "    .dataframe thead th {\n",
       "        text-align: right;\n",
       "    }\n",
       "</style>\n",
       "<table border=\"1\" class=\"dataframe\">\n",
       "  <thead>\n",
       "    <tr style=\"text-align: right;\">\n",
       "      <th></th>\n",
       "      <th>Original</th>\n",
       "      <th>L1_0.01</th>\n",
       "      <th>L2_0.01</th>\n",
       "      <th>L1_10</th>\n",
       "      <th>L2_10</th>\n",
       "    </tr>\n",
       "  </thead>\n",
       "  <tbody>\n",
       "    <tr>\n",
       "      <th>0</th>\n",
       "      <td>-733.980388</td>\n",
       "      <td>-725.191020</td>\n",
       "      <td>301.038236</td>\n",
       "      <td>396.398191</td>\n",
       "      <td>396.398191</td>\n",
       "    </tr>\n",
       "    <tr>\n",
       "      <th>1</th>\n",
       "      <td>808.704935</td>\n",
       "      <td>803.238769</td>\n",
       "      <td>91.398590</td>\n",
       "      <td>23.594483</td>\n",
       "      <td>23.594483</td>\n",
       "    </tr>\n",
       "    <tr>\n",
       "      <th>2</th>\n",
       "      <td>69.666679</td>\n",
       "      <td>67.900638</td>\n",
       "      <td>-74.496083</td>\n",
       "      <td>-86.535713</td>\n",
       "      <td>-86.535713</td>\n",
       "    </tr>\n",
       "    <tr>\n",
       "      <th>3</th>\n",
       "      <td>258.282001</td>\n",
       "      <td>255.623235</td>\n",
       "      <td>-3.192595</td>\n",
       "      <td>-27.783034</td>\n",
       "      <td>-27.783034</td>\n",
       "    </tr>\n",
       "    <tr>\n",
       "      <th>4</th>\n",
       "      <td>151.526270</td>\n",
       "      <td>152.792077</td>\n",
       "      <td>244.104364</td>\n",
       "      <td>252.282261</td>\n",
       "      <td>252.282261</td>\n",
       "    </tr>\n",
       "    <tr>\n",
       "      <th>5</th>\n",
       "      <td>457.276294</td>\n",
       "      <td>457.697694</td>\n",
       "      <td>474.339156</td>\n",
       "      <td>475.614372</td>\n",
       "      <td>475.614372</td>\n",
       "    </tr>\n",
       "    <tr>\n",
       "      <th>6</th>\n",
       "      <td>-50.836904</td>\n",
       "      <td>-47.866920</td>\n",
       "      <td>228.853192</td>\n",
       "      <td>253.400325</td>\n",
       "      <td>253.400325</td>\n",
       "    </tr>\n",
       "    <tr>\n",
       "      <th>7</th>\n",
       "      <td>16.205405</td>\n",
       "      <td>14.089708</td>\n",
       "      <td>-232.490735</td>\n",
       "      <td>-255.029945</td>\n",
       "      <td>-255.029945</td>\n",
       "    </tr>\n",
       "    <tr>\n",
       "      <th>8</th>\n",
       "      <td>489.609941</td>\n",
       "      <td>482.427698</td>\n",
       "      <td>-414.414663</td>\n",
       "      <td>-497.246244</td>\n",
       "      <td>-497.246244</td>\n",
       "    </tr>\n",
       "    <tr>\n",
       "      <th>9</th>\n",
       "      <td>-56.017943</td>\n",
       "      <td>-65.341652</td>\n",
       "      <td>-1225.371566</td>\n",
       "      <td>-1331.723372</td>\n",
       "      <td>-1331.723372</td>\n",
       "    </tr>\n",
       "    <tr>\n",
       "      <th>10</th>\n",
       "      <td>618.685701</td>\n",
       "      <td>614.663250</td>\n",
       "      <td>173.872657</td>\n",
       "      <td>132.968108</td>\n",
       "      <td>132.968108</td>\n",
       "    </tr>\n",
       "    <tr>\n",
       "      <th>11</th>\n",
       "      <td>405.376467</td>\n",
       "      <td>415.530112</td>\n",
       "      <td>1772.197446</td>\n",
       "      <td>1898.961806</td>\n",
       "      <td>1898.961806</td>\n",
       "    </tr>\n",
       "    <tr>\n",
       "      <th>12</th>\n",
       "      <td>-466.442184</td>\n",
       "      <td>-465.633046</td>\n",
       "      <td>-311.806573</td>\n",
       "      <td>-296.279559</td>\n",
       "      <td>-296.279559</td>\n",
       "    </tr>\n",
       "    <tr>\n",
       "      <th>13</th>\n",
       "      <td>-20.172352</td>\n",
       "      <td>-20.190106</td>\n",
       "      <td>-22.639070</td>\n",
       "      <td>-22.925853</td>\n",
       "      <td>-22.925853</td>\n",
       "    </tr>\n",
       "    <tr>\n",
       "      <th>14</th>\n",
       "      <td>-79.645759</td>\n",
       "      <td>-79.861060</td>\n",
       "      <td>-105.153602</td>\n",
       "      <td>-107.568389</td>\n",
       "      <td>-107.568389</td>\n",
       "    </tr>\n",
       "    <tr>\n",
       "      <th>15</th>\n",
       "      <td>357.268678</td>\n",
       "      <td>354.946576</td>\n",
       "      <td>132.587073</td>\n",
       "      <td>113.436438</td>\n",
       "      <td>113.436438</td>\n",
       "    </tr>\n",
       "    <tr>\n",
       "      <th>16</th>\n",
       "      <td>78.995409</td>\n",
       "      <td>77.148792</td>\n",
       "      <td>-101.840005</td>\n",
       "      <td>-117.355059</td>\n",
       "      <td>-117.355059</td>\n",
       "    </tr>\n",
       "    <tr>\n",
       "      <th>17</th>\n",
       "      <td>3.262712</td>\n",
       "      <td>2.204471</td>\n",
       "      <td>-102.278728</td>\n",
       "      <td>-111.329989</td>\n",
       "      <td>-111.329989</td>\n",
       "    </tr>\n",
       "  </tbody>\n",
       "</table>\n",
       "</div>"
      ],
      "text/plain": [
       "      Original     L1_0.01      L2_0.01        L1_10        L2_10\n",
       "0  -733.980388 -725.191020   301.038236   396.398191   396.398191\n",
       "1   808.704935  803.238769    91.398590    23.594483    23.594483\n",
       "2    69.666679   67.900638   -74.496083   -86.535713   -86.535713\n",
       "3   258.282001  255.623235    -3.192595   -27.783034   -27.783034\n",
       "4   151.526270  152.792077   244.104364   252.282261   252.282261\n",
       "5   457.276294  457.697694   474.339156   475.614372   475.614372\n",
       "6   -50.836904  -47.866920   228.853192   253.400325   253.400325\n",
       "7    16.205405   14.089708  -232.490735  -255.029945  -255.029945\n",
       "8   489.609941  482.427698  -414.414663  -497.246244  -497.246244\n",
       "9   -56.017943  -65.341652 -1225.371566 -1331.723372 -1331.723372\n",
       "10  618.685701  614.663250   173.872657   132.968108   132.968108\n",
       "11  405.376467  415.530112  1772.197446  1898.961806  1898.961806\n",
       "12 -466.442184 -465.633046  -311.806573  -296.279559  -296.279559\n",
       "13  -20.172352  -20.190106   -22.639070   -22.925853   -22.925853\n",
       "14  -79.645759  -79.861060  -105.153602  -107.568389  -107.568389\n",
       "15  357.268678  354.946576   132.587073   113.436438   113.436438\n",
       "16   78.995409   77.148792  -101.840005  -117.355059  -117.355059\n",
       "17    3.262712    2.204471  -102.278728  -111.329989  -111.329989"
      ]
     },
     "execution_count": 153,
     "metadata": {},
     "output_type": "execute_result"
    }
   ],
   "source": [
    "data = DataFrame(a)\n",
    "data"
   ]
  },
  {
   "cell_type": "code",
   "execution_count": null,
   "metadata": {},
   "outputs": [],
   "source": []
  },
  {
   "cell_type": "code",
   "execution_count": null,
   "metadata": {},
   "outputs": [],
   "source": []
  },
  {
   "cell_type": "code",
   "execution_count": null,
   "metadata": {},
   "outputs": [],
   "source": []
  }
 ],
 "metadata": {
  "kernelspec": {
   "display_name": "Python 3.9.2 64-bit",
   "language": "python",
   "name": "python3"
  },
  "language_info": {
   "codemirror_mode": {
    "name": "ipython",
    "version": 3
   },
   "file_extension": ".py",
   "mimetype": "text/x-python",
   "name": "python",
   "nbconvert_exporter": "python",
   "pygments_lexer": "ipython3",
   "version": "3.9.2"
  },
  "orig_nbformat": 4,
  "vscode": {
   "interpreter": {
    "hash": "7812ea015bdcee6f23a998adcdd2ef97c151c0c241b7b7070987d9313e41299d"
   }
  }
 },
 "nbformat": 4,
 "nbformat_minor": 2
}
